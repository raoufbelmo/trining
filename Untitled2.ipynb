{
 "cells": [
  {
   "cell_type": "code",
   "execution_count": 2,
   "id": "ee89c730",
   "metadata": {},
   "outputs": [],
   "source": [
    "import re\n"
   ]
  },
  {
   "cell_type": "code",
   "execution_count": 3,
   "id": "d9fb572c",
   "metadata": {},
   "outputs": [],
   "source": [
    "text = \"The film Titanic was released in 1998\"\n",
    "rusalt = re.match(r\".*\",text)"
   ]
  },
  {
   "cell_type": "code",
   "execution_count": 4,
   "id": "2ede0ca3-4ba6-4ada-b11d-7d60204a9f6f",
   "metadata": {},
   "outputs": [
    {
     "data": {
      "text/plain": [
       "<re.Match object; span=(0, 37), match='The film Titanic was released in 1998'>"
      ]
     },
     "execution_count": 4,
     "metadata": {},
     "output_type": "execute_result"
    }
   ],
   "source": [
    "rusalt"
   ]
  },
  {
   "cell_type": "code",
   "execution_count": 18,
   "id": "40a4f190-81fd-4e73-a807-6506aba748af",
   "metadata": {},
   "outputs": [
    {
     "name": "stdout",
     "output_type": "stream",
     "text": [
      "1998 was the year when the film titanic was released\n"
     ]
    }
   ],
   "source": [
    "text = \"1998 was the year when the film titanic was released\"\n",
    "result = re.sub(r\"http\\S+\", \"\", text)\n",
    "print(result)"
   ]
  },
  {
   "cell_type": "code",
   "execution_count": 19,
   "id": "97992639-1813-49a9-865d-ec57df95ad1b",
   "metadata": {},
   "outputs": [
    {
     "name": "stdout",
     "output_type": "stream",
     "text": [
      "@LiamHalligan @BitebackPub Noticed u were  on your show.... Wrote this last year to express  via @YouTube \n"
     ]
    }
   ],
   "source": [
    "text = \"@LiamHalligan @BitebackPub Noticed u were  on your show.... Wrote this last year to express https://t.co/TKwRl8uyXJ via @YouTube \"\n",
    "result = re.sub(r\"http\\S+\", \"\", text)\n",
    "print(result)"
   ]
  },
  {
   "cell_type": "code",
   "execution_count": 24,
   "id": "22c13133-14d9-4c34-adc6-bacd140275eb",
   "metadata": {},
   "outputs": [
    {
     "data": {
      "text/plain": [
       "'@LiamHalligan @BitebackPub Noticed u were  on your show.... Wrote this last year to express https://t.co/TKwRl8uyXJ via @YouTube '"
      ]
     },
     "execution_count": 24,
     "metadata": {},
     "output_type": "execute_result"
    }
   ],
   "source": [
    "f=text.replace('\\n','.')\n",
    "f"
   ]
  },
  {
   "cell_type": "code",
   "execution_count": 20,
   "id": "9260b4d0-346e-4c1a-af08-42c6489489c8",
   "metadata": {},
   "outputs": [],
   "source": [
    "import re\n",
    "df=pd.read_csv('ddd.csv')\n",
    "new_clom=[]\n",
    "for t in df['tweet'] :\n",
    "        t = t.replace('\\n','.')\n",
    "        tweetIndex = t.find('https://t.co')\n",
    "        if tweetIndex != -1 :\n",
    "            alteredTweet = t[:tweetIndex]\n",
    "        else :\n",
    "            alteredTweet = t\n",
    "  \n",
    "        newTweet = \" \".join(filter(lambda x:x[0]!='@', alteredTweet.split()))\n",
    "        new_clom.append(newTweet)    \n",
    "                       \n",
    "df['cleanTweet'] = new_clom"
   ]
  },
  {
   "cell_type": "code",
   "execution_count": 49,
   "id": "ae412f2b-8aa7-481a-845c-b0a816e2088d",
   "metadata": {
    "tags": []
   },
   "outputs": [],
   "source": [
    "import pandas as pd\n",
    "import re\n",
    "df=pd.read_csv('ddd.csv')\n",
    "new_clom=[]\n",
    "#def clean_tweets(df):\n",
    "    \n",
    "for t in df['tweet'] :\n",
    "        result = re.sub(r\"http\\S+\", \"\", t)\n",
    "        tweet = re.sub(r'\\@\\w+', ' ', result)\n",
    "        x = re.sub('[^A-Za-z]', ' ', tweet.lower())\n",
    "        reusfinal=re.sub(' +', ' ', x)\n",
    "        new_clom.append(reusfinal)  \n",
    "        #tweetIndex = t.find('https://t.co')\n",
    "        #print(t)\n",
    "        #print(z)\n",
    "        #print(\"-------------------------------------------\")\n",
    "        #print(tweetIndex)\n",
    "    \n",
    "                       \n",
    "df['cleanTweet'] = new_clom\n",
    "df['cleanTweet']\n",
    "df.to_csv('ddd.csv')\n",
    "        \n",
    "           \n",
    "        \n",
    "    \n"
   ]
  },
  {
   "cell_type": "code",
   "execution_count": 32,
   "id": "c20083b5-3a47-49af-805f-17dc90ad70e9",
   "metadata": {},
   "outputs": [],
   "source": [
    "z\n",
    "english = ['taken', 'points', 'come', 'her', 'backing', 'anyone', 'j', 'general', 'those', 'think', 'as', \"can't\", 'well', 'whenever', 'describe', 'above', 'group', 'already', 'couldn', 'went', 'wouldn', \"mustn't\", 'opens', 'felt', 'elsewhere', 'interesting', 'mustn', 'hereby', 'ma', 'm', 'could', 'eleven', 'you', 'thus', 'needed', 'big', 'therein', 'yet', 'moreover', 'was', 'young', 'front', 'works', 'does', 'fully', 'either', 'back', \"shan't\", 'had', 'downs', 'per', 'others', 'new', 'gave', 'not', 'seems', 'today', 'anything', 'orders', 'everyone', 'when', 'within', 'aren', 'even', 'having', 'whose', 'need', 'beyond', 'sixty', 'rooms', 'greater', 'shall', 'show', 'common', 'behind', 'ends', 'likely', 'seconds', 'becomes', 'hereupon', 'thin', 'let', 'now', 'twenty', \"needn't\", \"couldn't\", 'wants', 'own', 'are', 'years', \"you've\", 'therefore', 'if', 'bill', 'still', 'won', 'old', 're', 'generally', \"wasn't\", 'yourself', 'amount', 'eg', 'whole', 'ask', 'theirs', 's', 'know', 'thick', 'got', \"we'll\", 'really', 'p', 'sometimes', 'isn', 'beings', 'weren', 'like', 'toward', \"shouldn't\", 'across', 'smallest', 'presenting', 'part', 'somewhere', 'downed', \"you'd\", 'who', 'after', 'here', 'make', 'goods', 'noone', 'eight', 'certain', 'hence', 'do', 'non', 'longest', 'u', 'these', \"didn't\", 'q', 'haven', 'what', 'besides', 'becoming', 'case', 'being', 'whoever', 'further', 'mill', 'ever', 'k', 'year', 'lets', 'furthers', 'every', 'many', 'state', 'some', 'him', 'furthering', 'each', 'whereas', 'g', 'under', 'hasnt', 'less', 'inc', 'shouldn', 'why', 'pointing', 'everybody', 'co', 'below', 'detail', 'known', 'few', 'given', 'de', 've', 'usual', \"that'll\", 'hadn', 'none', 'forty', 'problem', 'opened', 'says', 'interests', 'rather', 'it', \"hasn't\", 'enough', 'nobody', 'began', 'by', 'asking', 'needs', 'clearly', 'among', 'same', 'x', \"won't\", 'once', 'can', 'doing', 'better', 'way', 'etc', 'herein', 'somebody', 'whereafter', 'four', 'younger', 'anyhow', 'ended', 'almost', 'towards', 'cant', 'because', 'around', 'open', 'just', 'highest', 'be', 'up', 'd', 'although', 'computer', \"it'hv\", \"we're\", 'should', 'nothing', 'sincere', 'don', 'different', 'backed', 'has', 'took', 'empty', \"should've\", 'hundred', \"you'll\", 'later', 'large', 'backs', 'its', 'c', 'men', 'differ', 'groups', 'mightn', 'higher', 'wells', 'off', 'room', 'out', \"isn't\", 'best', 'did', 'usually', 'thereafter', 'w', 'early', 'yourselves', 'ordering', 'showed', 'over', 'indeed', 'whether', 'evenly', 'put', 'seem', 'may', 'for', 'or', 'newest', 'myself', 'parted', 'good', 'working', 'thoughts', 'y', 'them', 'furthered', 'take', 'upon', 'f', 'kind', 'though', 'places', 'possible', 'wherein', 'gets', 'i', 'that', 'much', 'hereafter',\n",
    "           'also', 'grouping', 'without', 'right', 'long', 'keep', 'sure', 'whither', 'about', 'however', 'meanwhile', 'while', 'oldest', 'alone', 'most', 'thereupon', 'else', 'certainly', 'sometime', 'become', \"hadn't\", 'wanted', 'use', 'con', 'asks', 'doesn', 'someone', 'downing', 'been', 'their', 'anybody', 'member', 'might', 'fifteen', 'puts', 'nine', 'turning', 'nowhere', 'mr', 'and', 'into', 'until', 'knows', 'hers', 'uses', 'third', 'members', 'our', 'e', 'your', 'v', 'in', 'turns', 'first', 'll', 'differently', 'since', 'things', 'couldnt', 'thinks', \"doesn't\", 'fire', 'whereby', 'is', 'wasn', 'on', 'then', 'very', 'next', 'problems', 'get', 'throughout', 't', 'z', 'several', 'want', 'more', 'o', 'great', 'faces', 'thought', 'place', 'mine', 'latest', 'everything', 'turned', 'but', 'states', 'sees', 'former', 'beforehand', 'largely', 'ain', 'ten', \"don't\", 'important', 'another', 'neither', 'the', 'other', 'anyway', 'something', 'which', 'everywhere', 'shows', 'move', 'have', 'made', 'whom', 'itself', 'grouped', 'didn', 'two', 'ordered', 'perhaps', \"is'nt\", 'via', 'full', 'would', 'to', 'h', 'give', 'side', 'youngest', 'man', 'numbers', 'with', 'cases', 'done', 'than', 'n', 'ending', 'he', 'nor', 'found', 'themselves', 'presented', 'where', 'how', 'see', 'hasn', \"we've\", 'will', 'from', 'of', 'end', 'at', \"you're\", 'together', 'mostly', 'three', 'making', 'seemed', 'his', 'so', 'least', 'newer', 'parts', 'fill', 'older', 'clear', 'needn', 'finds', 'interested', 'nevertheless', 'whatever', 'whence', 'small', \"wouldn't\", 'me', 'please', 'before', 'no', \"mightn't\", 'call', 'six', 'face', 'last', 'serious', 'mrs', 'top', 'thing', 'shan', 'she', 'greatest', 'bottom', 'except', 'ie', 'afterwards', 'herself', 'find', 'due', 'latterly', 'fact', 'areas', 'always', 'often', 'namely', \"haven't\", 'am', 'only', 'along', 'away', 'number', 'go', 'again', 'parting', 'we', \"it's\", 'against', 'point', 'gives', 'too', 'order', 'himself', 'interest', 'must', 'used', 'during', 'five', 'down', 'second', 'keeps', 'turn', 'this', 'seeming', 'any', 'my', 'b', 'system', 'far', 'area', 'going', 'through', 'high', 'say', 'present', 'worked', 'such', 'ways', 'asked', 'beside', 'ours', 'onto', 'anywhere', 'an', 'somehow', \"aren't\", 'whereupon', 'thence', 'un', 'presents', 'amoungst', 'knew', 'all', 'opening', 'smaller', 'wherever', 'became', 'ourselves', 'r', 'were', 'between', \"she's\", 'thereby', 'ltd', 'l', 'twelve', 'facts', 'said', 'otherwise', 'a', 'came', 'pointed', 'formerly', 'showing', 'us', 'they', 'one', 'there', 'longer', 'name', 'sides', 'thru', 'yours', 'never', 'wanting', 'cry', 'fify', 'cannot', 'necessary', 'quite', 'both', 'needing', 'work', 'amongst', \"weren't\", 'saw', 'latter']"
   ]
  }
 ],
 "metadata": {
  "kernelspec": {
   "display_name": "Python 3 (ipykernel)",
   "language": "python",
   "name": "python3"
  },
  "language_info": {
   "codemirror_mode": {
    "name": "ipython",
    "version": 3
   },
   "file_extension": ".py",
   "mimetype": "text/x-python",
   "name": "python",
   "nbconvert_exporter": "python",
   "pygments_lexer": "ipython3",
   "version": "3.9.7"
  }
 },
 "nbformat": 4,
 "nbformat_minor": 5
}
